{
 "cells": [
  {
   "cell_type": "code",
   "execution_count": 1,
   "id": "ffcefcaf",
   "metadata": {},
   "outputs": [],
   "source": [
    "#import class containing cluster method\n",
    "from sklearn.cluster import KMeans"
   ]
  },
  {
   "cell_type": "code",
   "execution_count": 2,
   "id": "aa8becae",
   "metadata": {},
   "outputs": [],
   "source": [
    "#create an instance of the class\n",
    "kmeans = KMeans(n_clusters=3,init='k-means++')"
   ]
  },
  {
   "cell_type": "code",
   "execution_count": null,
   "id": "35bde454",
   "metadata": {},
   "outputs": [],
   "source": [
    "#fit instance data and predict clusters\n",
    "kmeans = kmeans.predict(X1)\n",
    "y_predict = kmeans.predict(X2)"
   ]
  }
 ],
 "metadata": {
  "kernelspec": {
   "display_name": "Python 3 (ipykernel)",
   "language": "python",
   "name": "python3"
  },
  "language_info": {
   "codemirror_mode": {
    "name": "ipython",
    "version": 3
   },
   "file_extension": ".py",
   "mimetype": "text/x-python",
   "name": "python",
   "nbconvert_exporter": "python",
   "pygments_lexer": "ipython3",
   "version": "3.11.5"
  }
 },
 "nbformat": 4,
 "nbformat_minor": 5
}
