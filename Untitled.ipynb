{
 "cells": [
  {
   "cell_type": "code",
   "execution_count": 1,
   "id": "ff9e05ea",
   "metadata": {},
   "outputs": [
    {
     "name": "stdout",
     "output_type": "stream",
     "text": [
      "heloo\n"
     ]
    }
   ],
   "source": [
    "print (\"heloo\")"
   ]
  },
  {
   "cell_type": "code",
   "execution_count": 6,
   "id": "3219b6e0",
   "metadata": {},
   "outputs": [
    {
     "name": "stdout",
     "output_type": "stream",
     "text": [
      "<class 'int'>\n",
      "<class 'str'>\n",
      "<class 'bool'>\n",
      "<class 'set'>\n",
      "<class 'list'>\n",
      "<class 'tuple'>\n",
      "<class 'float'>\n",
      "140705911838088\n",
      "1577655311216\n",
      "140705910368800\n",
      "1577655495008\n",
      "1577656168448\n",
      "1577655256640\n",
      "1577655009360\n"
     ]
    }
   ],
   "source": [
    "num=20\n",
    "name=\"sdfn\"\n",
    "boolean=True\n",
    "sets={\"f\",\"sjdh\"}\n",
    "lists=[\"ddok\",\"aldsk\"]\n",
    "tuples=(\"Ds\",\"d\")\n",
    "floating=398.3\n",
    "\n",
    "print (type(num))\n",
    "print (type(name))\n",
    "print (type(boolean))\n",
    "print (type(sets))\n",
    "print (type(lists))\n",
    "print (type(tuples))\n",
    "print (type(floating))\n",
    "\n",
    "print (id(num))\n",
    "print (id(name))\n",
    "print (id(boolean))\n",
    "print (id(sets))\n",
    "print (id(lists))\n",
    "print (id(tuples))\n",
    "print (id(floating))"
   ]
  },
  {
   "cell_type": "code",
   "execution_count": 8,
   "id": "1965ddb8",
   "metadata": {},
   "outputs": [
    {
     "name": "stdout",
     "output_type": "stream",
     "text": [
      "<class 'int'>\n",
      "<class 'str'>\n",
      "<class 'bool'>\n",
      "<class 'list'>\n",
      "140705911839048\n",
      "1577655580400\n",
      "140705910368800\n",
      "1577656157376\n"
     ]
    }
   ],
   "source": [
    "num=50\n",
    "name=\"Neha mam\"\n",
    "Understanding = True\n",
    "lists = [\"1\",\"djd\",1]\n",
    "print(type(num))\n",
    "print(type(name))\n",
    "print(type(Understanding))\n",
    "print(type(lists))\n",
    "print(id(num))\n",
    "print(id(name))\n",
    "print(id(Understanding))\n",
    "print(id(lists))\n"
   ]
  },
  {
   "cell_type": "code",
   "execution_count": 2,
   "id": "83274861",
   "metadata": {},
   "outputs": [
    {
     "name": "stdout",
     "output_type": "stream",
     "text": [
      "['hello', 1, 22.6]\n",
      "['hello', 1, 22.6, 29]\n",
      "['hello', 1, 29]\n",
      "['hello', 1, 29, 29]\n",
      "1\n"
     ]
    }
   ],
   "source": [
    "lists=['hello',1,22.6]\n",
    "print(lists)\n",
    "lists.append(29)\n",
    "print(lists)\n",
    "lists.remove(22.6)\n",
    "print(lists)\n",
    "lists.append(29)\n",
    "print(lists)\n",
    "print(lists.count(1))\n"
   ]
  },
  {
   "cell_type": "code",
   "execution_count": 2,
   "id": "f95fa1ba",
   "metadata": {},
   "outputs": [
    {
     "name": "stdout",
     "output_type": "stream",
     "text": [
      "('s', 2, 2.5)\n",
      "<class 'tuple'>\n"
     ]
    }
   ],
   "source": [
    "tuples=(\"s\",2,2.5)\n",
    "print(tuples)\n",
    "print(type(tuples))\n"
   ]
  },
  {
   "cell_type": "code",
   "execution_count": null,
   "id": "6375a029",
   "metadata": {},
   "outputs": [
    {
     "name": "stdout",
     "output_type": "stream",
     "text": [
      "{'w'}\n",
      "{98, 'w'}\n"
     ]
    },
    {
     "ename": "TypeError",
     "evalue": "'set' object is not subscriptable",
     "output_type": "error",
     "traceback": [
      "\u001b[1;31m---------------------------------------------------------------------------\u001b[0m",
      "\u001b[1;31mTypeError\u001b[0m                                 Traceback (most recent call last)",
      "Cell \u001b[1;32mIn[8], line 5\u001b[0m\n\u001b[0;32m      3\u001b[0m sets\u001b[38;5;241m.\u001b[39madd(\u001b[38;5;241m98\u001b[39m)\n\u001b[0;32m      4\u001b[0m \u001b[38;5;28mprint\u001b[39m(sets)\n\u001b[1;32m----> 5\u001b[0m \u001b[38;5;28mprint\u001b[39m(sets[\u001b[38;5;241m0\u001b[39m])\n",
      "\u001b[1;31mTypeError\u001b[0m: 'set' object is not subscriptable"
     ]
    }
   ],
   "source": [
    "sets={'w','w'}\n",
    "print(sets)\n",
    "sets.add(98)\n",
    "print(sets)\n",
    "print(sets[0])"
   ]
  },
  {
   "cell_type": "code",
   "execution_count": 29,
   "id": "e0ddf9d6",
   "metadata": {},
   "outputs": [
    {
     "name": "stdout",
     "output_type": "stream",
     "text": [
      "34\n",
      "0\n",
      "['asfd' '1' '2']\n",
      "1\n",
      "[[ 9  1  2]\n",
      " [23 32  2]]\n",
      "2\n",
      "[[[[['asfd' '1' '2']]]]]\n",
      "5\n",
      "[22  2  2]\n",
      "[22  2]\n"
     ]
    }
   ],
   "source": [
    "import numpy as np\n",
    "arr=np.array(34)\n",
    "arr1=np.array(['asfd',1,2])\n",
    "arr2=np.array([[9,1,2],[23,32,2]])\n",
    "print(arr)\n",
    "print(arr.ndim)\n",
    "print(arr1)\n",
    "print(arr1.ndim)\n",
    "print(arr2)\n",
    "print(arr2.ndim)\n",
    "arrn=np.array(['asfd',1,2],ndmin=5)\n",
    "print(arrn)\n",
    "print(arrn.ndim)\n",
    "arrp=np.array([2,22,2,2,2,3,3,34,4])\n",
    "print(arrp[1:4])\n",
    "print(arrp[1:4:2])\n"
   ]
  },
  {
   "cell_type": "code",
   "execution_count": null,
   "id": "e8fc17fb",
   "metadata": {},
   "outputs": [
    {
     "name": "stdout",
     "output_type": "stream",
     "text": [
      "<class 'list'>\n"
     ]
    }
   ],
   "source": [
    "s=['s',1,2]\n",
    "print(type(s))\n"
   ]
  },
  {
   "cell_type": "code",
   "execution_count": null,
   "id": "f4283511",
   "metadata": {},
   "outputs": [
    {
     "name": "stdout",
     "output_type": "stream",
     "text": [
      "Shape of X train(90, 4)\n",
      "Shape of X test(60, 4)\n",
      "Shape of Y train(90,)\n",
      "Shape of Y test(60,)\n"
     ]
    }
   ],
   "source": [
    "# importing libraries for train test split\n",
    "from sklearn.model_selection import train_test_split\n",
    "from sklearn.datasets import load_iris\n",
    "\n",
    "data = load_iris()\n",
    "x=data.data\n",
    "y=data.target\n",
    "\n",
    "x_train,x_test,y_train,y_test=train_test_split(x,y,test_size=0.4,random_state=50)\n",
    "print(f\"Shape of X train{x_train.shape}\")\n",
    "print(f\"Shape of X test{x_test.shape}\")\n",
    "print(f\"Shape of Y train{y_train.shape}\")\n",
    "print(f\"Shape of Y test{y_test.shape}\")"
   ]
  },
  {
   "cell_type": "code",
   "execution_count": 12,
   "id": "8e485ea7",
   "metadata": {},
   "outputs": [
    {
     "name": "stdout",
     "output_type": "stream",
     "text": [
      "1.11.1\n"
     ]
    }
   ],
   "source": [
    "import scipy\n",
    "print(scipy.__version__)\n",
    "# finding roots of an equation\n",
    "  "
   ]
  },
  {
   "cell_type": "code",
   "execution_count": 20,
   "id": "81e7169c",
   "metadata": {},
   "outputs": [
    {
     "name": "stdout",
     "output_type": "stream",
     "text": [
      "[-0.73908513]\n",
      " message: The solution converged.\n",
      " success: True\n",
      "  status: 1\n",
      "     fun: [ 0.000e+00]\n",
      "       x: [-7.391e-01]\n",
      "    nfev: 9\n",
      "    fjac: [[-1.000e+00]]\n",
      "       r: [-1.674e+00]\n",
      "     qtf: [-2.668e-13]\n"
     ]
    }
   ],
   "source": [
    "from scipy.optimize import root\n",
    "from math import cos\n",
    "\n",
    "def eq(x):\n",
    "    return x+cos(x)\n",
    "\n",
    "print(root(eq,0).x)\n",
    "print(root(eq,0))\n"
   ]
  },
  {
   "cell_type": "code",
   "execution_count": 25,
   "id": "d03b5c44",
   "metadata": {},
   "outputs": [
    {
     "name": "stdout",
     "output_type": "stream",
     "text": [
      "[-0.81773167]\n"
     ]
    }
   ],
   "source": [
    "# to find quadratic equation\n",
    "\n",
    "def eq(x):\n",
    "    return x**3+3*x+3\n",
    "\n",
    "print(root(eq,0).x)"
   ]
  },
  {
   "cell_type": "code",
   "execution_count": 27,
   "id": "3646d2a2",
   "metadata": {},
   "outputs": [
    {
     "name": "stdout",
     "output_type": "stream",
     "text": [
      "  name   e\n",
      "0    V  20\n",
      "1    G  21\n"
     ]
    }
   ],
   "source": [
    "import pandas as pd\n",
    "\n",
    "data = {\n",
    "    \"name\": [\"V\",\"G\"],\n",
    "    \"e\": [20,21]\n",
    "}\n",
    "\n",
    "print(pd.DataFrame(data))"
   ]
  }
 ],
 "metadata": {
  "kernelspec": {
   "display_name": "Python 3 (ipykernel)",
   "language": "python",
   "name": "python3"
  },
  "language_info": {
   "codemirror_mode": {
    "name": "ipython",
    "version": 3
   },
   "file_extension": ".py",
   "mimetype": "text/x-python",
   "name": "python",
   "nbconvert_exporter": "python",
   "pygments_lexer": "ipython3",
   "version": "3.11.5"
  }
 },
 "nbformat": 4,
 "nbformat_minor": 5
}
